{
 "cells": [
  {
   "cell_type": "code",
   "execution_count": 1,
   "metadata": {},
   "outputs": [],
   "source": [
    "import numpy as np\n",
    "import pandas as pd\n",
    "import string  \n",
    "from pprint import pprint\n",
    "import collections\n",
    "import matplotlib.pyplot as plt\n",
    "\n",
    "from sklearn.datasets import fetch_20newsgroups\n",
    "from sklearn.feature_extraction.text import CountVectorizer, TfidfVectorizer, TfidfTransformer\n",
    "from sklearn.linear_model import SGDClassifier\n",
    "from sklearn.model_selection import StratifiedShuffleSplit\n",
    "from sklearn.metrics import classification_report, confusion_matrix\n",
    "\n",
    "from gensim.models import KeyedVectors\n",
    "from gensim.scripts.glove2word2vec import glove2word2vec"
   ]
  },
  {
   "cell_type": "markdown",
   "metadata": {},
   "source": [
    "# Data"
   ]
  },
  {
   "cell_type": "code",
   "execution_count": 2,
   "metadata": {},
   "outputs": [
    {
     "name": "stdout",
     "output_type": "stream",
     "text": [
      "['alt.atheism', 'comp.graphics', 'rec.sport.baseball', 'sci.med', 'soc.religion.christian', 'talk.politics.mideast']\n"
     ]
    }
   ],
   "source": [
    "# To keep the data relatively small and domain-specific\n",
    "# Select six different domains out 20 categories\n",
    "categories = ['alt.atheism', 'soc.religion.christian', 'rec.sport.baseball',\n",
    "              'comp.graphics', 'sci.med', 'talk.politics.mideast']\n",
    "twenty_news = fetch_20newsgroups(subset='all', categories=categories, \n",
    "                                 remove=('headers', 'footers', 'quotes'),\n",
    "                                 shuffle=True, random_state=42)\n",
    "print(twenty_news.target_names)"
   ]
  },
  {
   "cell_type": "code",
   "execution_count": 3,
   "metadata": {},
   "outputs": [
    {
     "name": "stdout",
     "output_type": "stream",
     "text": [
      "The number of records in the subset 20newsgroups is 5693\n"
     ]
    }
   ],
   "source": [
    "print(\"The number of records in the subset 20newsgroups is %s\" %len(twenty_news.data))"
   ]
  },
  {
   "cell_type": "code",
   "execution_count": 4,
   "metadata": {},
   "outputs": [
    {
     "data": {
      "text/plain": [
       "Counter({3: 990, 2: 994, 5: 940, 1: 973, 4: 997, 0: 799})"
      ]
     },
     "execution_count": 4,
     "metadata": {},
     "output_type": "execute_result"
    }
   ],
   "source": [
    "collections.Counter(twenty_news.target)"
   ]
  },
  {
   "cell_type": "code",
   "execution_count": 5,
   "metadata": {},
   "outputs": [
    {
     "name": "stdout",
     "output_type": "stream",
     "text": [
      "sci.med\n",
      "rec.sport.baseball\n",
      "rec.sport.baseball\n",
      "talk.politics.mideast\n",
      "talk.politics.mideast\n",
      "comp.graphics\n",
      "sci.med\n",
      "rec.sport.baseball\n",
      "sci.med\n",
      "comp.graphics\n"
     ]
    }
   ],
   "source": [
    "for t in twenty_news.target[:10]:\n",
    "    print(twenty_news.target_names[t])"
   ]
  },
  {
   "cell_type": "code",
   "execution_count": 6,
   "metadata": {},
   "outputs": [
    {
     "data": {
      "text/plain": [
       "array([3, 2, 2, 5, 5, 1, 3, 2, 3, 1])"
      ]
     },
     "execution_count": 6,
     "metadata": {},
     "output_type": "execute_result"
    }
   ],
   "source": [
    "twenty_news.target[:10]"
   ]
  },
  {
   "cell_type": "markdown",
   "metadata": {},
   "source": [
    "# Bags of words"
   ]
  },
  {
   "cell_type": "code",
   "execution_count": 7,
   "metadata": {},
   "outputs": [
    {
     "name": "stdout",
     "output_type": "stream",
     "text": [
      "(5693, 493588)\n"
     ]
    }
   ],
   "source": [
    "# The default regexp select tokens of 2 or more alphanumeric characters \n",
    "# And punctuation is completely ignored and always treated as a token separator\n",
    "count_vect = CountVectorizer(ngram_range=(1,2),\n",
    "                             stop_words='english')\n",
    "\n",
    "X_counts = count_vect.fit_transform(twenty_news.data)\n",
    "print(X_counts.shape)"
   ]
  },
  {
   "cell_type": "code",
   "execution_count": 8,
   "metadata": {},
   "outputs": [
    {
     "name": "stdout",
     "output_type": "stream",
     "text": [
      "33788\n"
     ]
    }
   ],
   "source": [
    "# The index value of a word in the vocabulary is linked to its frequency in the whole training corpus.\n",
    "word_index = count_vect.vocabulary_\n",
    "print(count_vect.vocabulary_.get(u'algorithm'))"
   ]
  },
  {
   "cell_type": "markdown",
   "metadata": {},
   "source": [
    "CountVectorizer supports counts of N-grams of words or consecutive characters. Once fitted, the vectorizer has built a dictionary of feature indices:"
   ]
  },
  {
   "cell_type": "code",
   "execution_count": 9,
   "metadata": {},
   "outputs": [
    {
     "name": "stdout",
     "output_type": "stream",
     "text": [
      "(5693, 493588)\n"
     ]
    }
   ],
   "source": [
    "tfidf_transformer = TfidfTransformer()\n",
    "X_tfidf = tfidf_transformer.fit_transform(X_counts)\n",
    "print(X_tfidf.shape)"
   ]
  },
  {
   "cell_type": "markdown",
   "metadata": {},
   "source": [
    "# Model"
   ]
  },
  {
   "cell_type": "code",
   "execution_count": 10,
   "metadata": {},
   "outputs": [],
   "source": [
    "# Test/Train Split\n",
    "labels = twenty_news.target\n",
    "sss = StratifiedShuffleSplit(n_splits=1, test_size=0.25, random_state=1).split(X_tfidf, labels)\n",
    "train_indices, test_indices = next(sss)\n",
    "X_train_tfidf, X_test_tfidf = X_tfidf[train_indices], X_tfidf[test_indices]\n",
    "labels_train, labels_test = labels[train_indices], labels[test_indices]"
   ]
  },
  {
   "cell_type": "code",
   "execution_count": 11,
   "metadata": {},
   "outputs": [
    {
     "data": {
      "text/plain": [
       "SGDClassifier(alpha=0.001, average=False, class_weight=None,\n",
       "              early_stopping=False, epsilon=0.1, eta0=0.0, fit_intercept=True,\n",
       "              l1_ratio=0.15, learning_rate='optimal', loss='hinge', max_iter=30,\n",
       "              n_iter_no_change=5, n_jobs=None, penalty='l2', power_t=0.5,\n",
       "              random_state=42, shuffle=True, tol=None, validation_fraction=0.1,\n",
       "              verbose=0, warm_start=False)"
      ]
     },
     "execution_count": 11,
     "metadata": {},
     "output_type": "execute_result"
    }
   ],
   "source": [
    "model = SGDClassifier(loss='hinge', penalty='l2', alpha=1e-3, \n",
    "                      random_state=42, max_iter=30, tol=None)\n",
    "model.fit(X_train_tfidf, labels_train)"
   ]
  },
  {
   "cell_type": "code",
   "execution_count": 12,
   "metadata": {},
   "outputs": [
    {
     "data": {
      "text/plain": [
       "0.8462078651685393"
      ]
     },
     "execution_count": 12,
     "metadata": {},
     "output_type": "execute_result"
    }
   ],
   "source": [
    "predicted_bow = model.predict(X_test_tfidf)\n",
    "accuracy_bow = np.mean(predicted_bow == labels_test)\n",
    "accuracy_bow"
   ]
  },
  {
   "cell_type": "code",
   "execution_count": 13,
   "metadata": {},
   "outputs": [
    {
     "name": "stdout",
     "output_type": "stream",
     "text": [
      "[[ 99   9  13   9  51  19]\n",
      " [  1 227  12   2   0   1]\n",
      " [  1   7 235   3   0   3]\n",
      " [  1  14  12 217   2   2]\n",
      " [  5   7   6   5 216  10]\n",
      " [  4   2  10   4   4 211]]\n",
      "                        precision    recall  f1-score   support\n",
      "\n",
      "           alt.atheism       0.89      0.49      0.64       200\n",
      "         comp.graphics       0.85      0.93      0.89       243\n",
      "    rec.sport.baseball       0.82      0.94      0.88       249\n",
      "               sci.med       0.90      0.88      0.89       248\n",
      "soc.religion.christian       0.79      0.87      0.83       249\n",
      " talk.politics.mideast       0.86      0.90      0.88       235\n",
      "\n",
      "              accuracy                           0.85      1424\n",
      "             macro avg       0.85      0.84      0.83      1424\n",
      "          weighted avg       0.85      0.85      0.84      1424\n",
      "\n"
     ]
    }
   ],
   "source": [
    "print (confusion_matrix(labels_test, predicted_bow))\n",
    "print(classification_report(labels_test, predicted_bow,\n",
    "                            target_names=twenty_news.target_names))"
   ]
  },
  {
   "cell_type": "markdown",
   "metadata": {},
   "source": [
    "# Embeddings in Google Word2Vec\n",
    "Word-embeddings are numerical vector representations for words. They allow us to reduce the dimensionality of the word-space from the length of the corpus vocabulary to a much shorter length."
   ]
  },
  {
   "cell_type": "code",
   "execution_count": 14,
   "metadata": {},
   "outputs": [
    {
     "name": "stdout",
     "output_type": "stream",
     "text": [
      "300\n"
     ]
    }
   ],
   "source": [
    "# Load vectors directly from the file\n",
    "# https://code.google.com/archive/p/word2vec/\n",
    "word2vec = KeyedVectors.load_word2vec_format('data/GoogleNews-vectors-negative300.bin', binary=True)\n",
    "# Check dimension of word vectors\n",
    "print(word2vec.vector_size)"
   ]
  },
  {
   "cell_type": "code",
   "execution_count": 15,
   "metadata": {},
   "outputs": [
    {
     "name": "stdout",
     "output_type": "stream",
     "text": [
      "(493589, 300)\n"
     ]
    }
   ],
   "source": [
    "embedding_matrix_word2vec = np.zeros((len(word_index)+1, 300))\n",
    "print(embedding_matrix_word2vec.shape)\n",
    "for word, i in word_index.items():\n",
    "    if word in word2vec:\n",
    "        embedding_matrix_word2vec[i] = word2vec[word]"
   ]
  },
  {
   "cell_type": "code",
   "execution_count": 16,
   "metadata": {},
   "outputs": [
    {
     "name": "stdout",
     "output_type": "stream",
     "text": [
      "(4269, 300)\n"
     ]
    }
   ],
   "source": [
    "# Turn Xencoded into nWords x 300 dense matrix\n",
    "def sparseMultiply (sparse_X, embedding_matrix):\n",
    "    dense_Z = []\n",
    "    for row in sparse_X:\n",
    "        new_row = np.zeros(300)\n",
    "        for nonzero_location, value in list(zip(row.indices, row.data)):\n",
    "            new_row = new_row + value * embedding_matrix[nonzero_location]\n",
    "        dense_Z.append(new_row)\n",
    "    dense_Z = np.array([np.array(xi) for xi in dense_Z])\n",
    "    return dense_Z\n",
    " \n",
    "X_train_word2vec = sparseMultiply (X_train_tfidf, embedding_matrix_word2vec)\n",
    "print (X_train_word2vec.shape)"
   ]
  },
  {
   "cell_type": "code",
   "execution_count": 17,
   "metadata": {},
   "outputs": [
    {
     "data": {
      "text/plain": [
       "SGDClassifier(alpha=0.001, average=False, class_weight=None,\n",
       "              early_stopping=False, epsilon=0.1, eta0=0.0, fit_intercept=True,\n",
       "              l1_ratio=0.15, learning_rate='optimal', loss='hinge', max_iter=30,\n",
       "              n_iter_no_change=5, n_jobs=None, penalty='l2', power_t=0.5,\n",
       "              random_state=42, shuffle=True, tol=None, validation_fraction=0.1,\n",
       "              verbose=0, warm_start=False)"
      ]
     },
     "execution_count": 17,
     "metadata": {},
     "output_type": "execute_result"
    }
   ],
   "source": [
    "model.fit(X_train_word2vec, labels_train)"
   ]
  },
  {
   "cell_type": "code",
   "execution_count": 18,
   "metadata": {},
   "outputs": [
    {
     "name": "stdout",
     "output_type": "stream",
     "text": [
      "(1424, 300)\n"
     ]
    }
   ],
   "source": [
    "X_test_word2vec = sparseMultiply (X_test_tfidf, embedding_matrix_word2vec)\n",
    "print (X_test_word2vec.shape)"
   ]
  },
  {
   "cell_type": "code",
   "execution_count": 19,
   "metadata": {},
   "outputs": [
    {
     "data": {
      "text/plain": [
       "0.8265449438202247"
      ]
     },
     "execution_count": 19,
     "metadata": {},
     "output_type": "execute_result"
    }
   ],
   "source": [
    "predicted_word2vec = model.predict(X_test_word2vec)\n",
    "accuracy_word2vec = np.mean(predicted_word2vec == labels_test)\n",
    "accuracy_word2vec"
   ]
  },
  {
   "cell_type": "markdown",
   "metadata": {},
   "source": [
    "# Embedding with FastText"
   ]
  },
  {
   "cell_type": "code",
   "execution_count": 20,
   "metadata": {},
   "outputs": [
    {
     "name": "stdout",
     "output_type": "stream",
     "text": [
      "300\n"
     ]
    }
   ],
   "source": [
    "# Load vectors directly from the file\n",
    "# https://fasttext.cc/docs/en/english-vectors.html\n",
    "fasttext = KeyedVectors.load_word2vec_format('data/en_wiki_fasttext_300.txt', binary=False)\n",
    "# Check dimension of fasttext vector\n",
    "print(fasttext.vector_size)"
   ]
  },
  {
   "cell_type": "code",
   "execution_count": 21,
   "metadata": {},
   "outputs": [
    {
     "name": "stdout",
     "output_type": "stream",
     "text": [
      "(493589, 300)\n"
     ]
    }
   ],
   "source": [
    "embedding_matrix_fasttext = np.zeros((len(word_index)+1, 300))\n",
    "print(embedding_matrix_fasttext.shape)\n",
    "for word, i in word_index.items():\n",
    "    if word in fasttext:\n",
    "        embedding_matrix_fasttext[i] = fasttext[word]"
   ]
  },
  {
   "cell_type": "code",
   "execution_count": 22,
   "metadata": {},
   "outputs": [
    {
     "name": "stdout",
     "output_type": "stream",
     "text": [
      "(4269, 300)\n"
     ]
    }
   ],
   "source": [
    "X_train_fasttext = sparseMultiply (X_train_tfidf, embedding_matrix_fasttext)\n",
    "print (X_train_fasttext.shape)"
   ]
  },
  {
   "cell_type": "code",
   "execution_count": 23,
   "metadata": {},
   "outputs": [
    {
     "data": {
      "text/plain": [
       "SGDClassifier(alpha=0.001, average=False, class_weight=None,\n",
       "              early_stopping=False, epsilon=0.1, eta0=0.0, fit_intercept=True,\n",
       "              l1_ratio=0.15, learning_rate='optimal', loss='hinge', max_iter=30,\n",
       "              n_iter_no_change=5, n_jobs=None, penalty='l2', power_t=0.5,\n",
       "              random_state=42, shuffle=True, tol=None, validation_fraction=0.1,\n",
       "              verbose=0, warm_start=False)"
      ]
     },
     "execution_count": 23,
     "metadata": {},
     "output_type": "execute_result"
    }
   ],
   "source": [
    "model.fit(X_train_fasttext, labels_train)"
   ]
  },
  {
   "cell_type": "code",
   "execution_count": 24,
   "metadata": {},
   "outputs": [
    {
     "name": "stdout",
     "output_type": "stream",
     "text": [
      "(1424, 300)\n"
     ]
    }
   ],
   "source": [
    "X_test_fasttext = sparseMultiply (X_test_tfidf, embedding_matrix_fasttext)\n",
    "print (X_test_fasttext.shape)"
   ]
  },
  {
   "cell_type": "code",
   "execution_count": 25,
   "metadata": {},
   "outputs": [
    {
     "data": {
      "text/plain": [
       "0.8146067415730337"
      ]
     },
     "execution_count": 25,
     "metadata": {},
     "output_type": "execute_result"
    }
   ],
   "source": [
    "predicted_fasttext = model.predict(X_test_fasttext)\n",
    "accuracy_fasttext = np.mean(predicted_fasttext == labels_test)\n",
    "accuracy_fasttext"
   ]
  },
  {
   "cell_type": "markdown",
   "metadata": {},
   "source": [
    "# Embedding with GloVe"
   ]
  },
  {
   "cell_type": "code",
   "execution_count": 26,
   "metadata": {},
   "outputs": [
    {
     "name": "stdout",
     "output_type": "stream",
     "text": [
      "300\n"
     ]
    }
   ],
   "source": [
    "# Load vectors directly from the file\n",
    "# https://nlp.stanford.edu/projects/glove/\n",
    "glove2word2vec(glove_input_file=\"data/glove.6B.300d.txt\", word2vec_output_file=\"data/gensim_glove_vectors.txt\")\n",
    "glove = KeyedVectors.load_word2vec_format(\"data/gensim_glove_vectors.txt\", binary=False)\n",
    "# Check dimension of fasttext vector\n",
    "print(glove.vector_size)"
   ]
  },
  {
   "cell_type": "code",
   "execution_count": 27,
   "metadata": {},
   "outputs": [
    {
     "name": "stdout",
     "output_type": "stream",
     "text": [
      "(493589, 300)\n"
     ]
    }
   ],
   "source": [
    "embedding_matrix_glove = np.zeros((len(word_index)+1, 300))\n",
    "print(embedding_matrix_glove.shape)\n",
    "for word, i in word_index.items():\n",
    "    if word in glove:\n",
    "        embedding_matrix_glove[i] = glove[word]"
   ]
  },
  {
   "cell_type": "code",
   "execution_count": 28,
   "metadata": {},
   "outputs": [
    {
     "name": "stdout",
     "output_type": "stream",
     "text": [
      "(4269, 300)\n"
     ]
    }
   ],
   "source": [
    "X_train_glove = sparseMultiply (X_train_tfidf, embedding_matrix_glove)\n",
    "print (X_train_glove.shape)"
   ]
  },
  {
   "cell_type": "code",
   "execution_count": 29,
   "metadata": {},
   "outputs": [
    {
     "data": {
      "text/plain": [
       "SGDClassifier(alpha=0.001, average=False, class_weight=None,\n",
       "              early_stopping=False, epsilon=0.1, eta0=0.0, fit_intercept=True,\n",
       "              l1_ratio=0.15, learning_rate='optimal', loss='hinge', max_iter=30,\n",
       "              n_iter_no_change=5, n_jobs=None, penalty='l2', power_t=0.5,\n",
       "              random_state=42, shuffle=True, tol=None, validation_fraction=0.1,\n",
       "              verbose=0, warm_start=False)"
      ]
     },
     "execution_count": 29,
     "metadata": {},
     "output_type": "execute_result"
    }
   ],
   "source": [
    "model.fit(X_train_glove, labels_train)"
   ]
  },
  {
   "cell_type": "code",
   "execution_count": 30,
   "metadata": {},
   "outputs": [
    {
     "name": "stdout",
     "output_type": "stream",
     "text": [
      "(1424, 300)\n"
     ]
    }
   ],
   "source": [
    "X_test_glove = sparseMultiply (X_test_tfidf, embedding_matrix_glove)\n",
    "print (X_test_glove.shape)"
   ]
  },
  {
   "cell_type": "code",
   "execution_count": 31,
   "metadata": {},
   "outputs": [
    {
     "data": {
      "text/plain": [
       "0.8174157303370787"
      ]
     },
     "execution_count": 31,
     "metadata": {},
     "output_type": "execute_result"
    }
   ],
   "source": [
    "predicted_glove = model.predict(X_test_glove)\n",
    "accuracy_glove = np.mean(predicted_glove == labels_test)\n",
    "accuracy_glove"
   ]
  },
  {
   "cell_type": "markdown",
   "metadata": {},
   "source": [
    "# Comparison"
   ]
  },
  {
   "cell_type": "code",
   "execution_count": 32,
   "metadata": {},
   "outputs": [
    {
     "data": {
      "image/png": "[encoded data removed]",
      "text/plain": [
       "<Figure size 432x288 with 1 Axes>"
      ]
     },
     "metadata": {
      "needs_background": "light"
     },
     "output_type": "display_data"
    }
   ],
   "source": [
    "df_accuracies = pd.Series([accuracy_bow, accuracy_word2vec, accuracy_fasttext, accuracy_glove], \n",
    "                          ['BoW+tf–idf', 'Word2Vec', 'FastText', 'GloVe'])\n",
    "df_accuracies = df_accuracies.sort_values(ascending=False)\n",
    "\n",
    "# Draw the bar Plot from accuracies\n",
    "df_accuracies.plot(x='Methods', y='Accuracy', kind='bar', rot=0)\n",
    "\n",
    "# Show the plot\n",
    "plt.tight_layout()\n",
    "plt.title(\"Accuracy of BoW and Embeddings\")\n",
    "plt.xlabel('Methods')\n",
    "plt.ylabel('Accuracies')\n",
    "for i, v in enumerate(df_accuracies):\n",
    "    plt.text(i-0.2, v-0.05, str(round(v,4)))\n",
    "plt.show()"
   ]
  },
  {
   "cell_type": "code",
   "execution_count": null,
   "metadata": {},
   "outputs": [],
   "source": []
  }
 ],
 "metadata": {
  "kernelspec": {
   "display_name": "Python 3",
   "language": "python",
   "name": "python3"
  },
  "language_info": {
   "codemirror_mode": {
    "name": "ipython",
    "version": 3
   },
   "file_extension": ".py",
   "mimetype": "text/x-python",
   "name": "python",
   "nbconvert_exporter": "python",
   "pygments_lexer": "ipython3",
   "version": "3.7.4"
  }
 },
 "nbformat": 4,
 "nbformat_minor": 4
}
